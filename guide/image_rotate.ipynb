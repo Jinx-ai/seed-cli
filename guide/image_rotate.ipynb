{
 "cells": [
  {
   "cell_type": "markdown",
   "metadata": {},
   "source": [
    "# Image Rotate\n",
    "This notebook takes an image and rotates it a specified number of degrees"
   ]
  },
  {
   "cell_type": "code",
   "execution_count": null,
   "metadata": {},
   "outputs": [],
   "source": [
    "# Parameters\n",
    "source_image_path = None\n",
    "rotate_degrees = None\n",
    "output_dir = None"
   ]
  },
  {
   "cell_type": "code",
   "execution_count": null,
   "metadata": {},
   "outputs": [],
   "source": [
    "# Check for Parameters\n",
    "if source_image_path is None or output_dir is None:\n",
    "    raise LookupError"
   ]
  },
  {
   "cell_type": "code",
   "execution_count": null,
   "metadata": {},
   "outputs": [],
   "source": [
    "import os\n",
    "\n",
    "# Set Output Path\n",
    "product_image_name =  f'ROTATED_{rotate_degrees}_{os.path.basename(source_image_path)}'\n",
    "product_image_path = os.path.join(output_dir, product_image_name) "
   ]
  },
  {
   "cell_type": "code",
   "execution_count": null,
   "metadata": {},
   "outputs": [],
   "source": [
    "from PIL import Image as pil\n",
    "from IPython.display import Image\n",
    "\n",
    "# Open Image\n",
    "original_image = pil.open(source_image_path)\n",
    "\n",
    "# Display Image\n",
    "Image(filename=source_image_path)"
   ]
  },
  {
   "cell_type": "code",
   "execution_count": null,
   "metadata": {},
   "outputs": [],
   "source": [
    "# Rotate it specified number of degrees\n",
    "rotated_image = original_image.rotate(int(rotate_degrees), 0, 1)\n",
    "rotated_image.save(product_image_name)\n",
    "\n",
    "## Display Photo\n",
    "Image(filename=product_image_name) "
   ]
  },
  {
   "cell_type": "code",
   "execution_count": null,
   "metadata": {},
   "outputs": [],
   "source": [
    "import shutil\n",
    "\n",
    "# Move File to Output Folder\n",
    "if not os.path.exists(output_dir):\n",
    "    os.makedirs(output_dir)\n",
    "shutil.move(product_image_name, product_image_path)"
   ]
  }
 ],
 "metadata": {
  "kernelspec": {
   "display_name": "Python 3",
   "language": "python",
   "name": "python3"
  },
  "language_info": {
   "codemirror_mode": {
    "name": "ipython",
    "version": 3
   },
   "file_extension": ".py",
   "mimetype": "text/x-python",
   "name": "python",
   "nbconvert_exporter": "python",
   "pygments_lexer": "ipython3",
   "version": "3.8.2"
  }
 },
 "nbformat": 4,
 "nbformat_minor": 4
}
